{
 "cells": [
  {
   "cell_type": "code",
   "execution_count": 1,
   "id": "ade1e10e",
   "metadata": {},
   "outputs": [],
   "source": [
    "import pandas as pd\n",
    "import numpy as np\n"
   ]
  },
  {
   "cell_type": "code",
   "execution_count": 2,
   "id": "ad25a9b7",
   "metadata": {},
   "outputs": [],
   "source": [
    "df = pd.read_csv('flipkart_com-ecommerce_sample.csv')"
   ]
  },
  {
   "cell_type": "code",
   "execution_count": 3,
   "id": "c4162ece",
   "metadata": {},
   "outputs": [
    {
     "data": {
      "text/html": [
       "<div>\n",
       "<style scoped>\n",
       "    .dataframe tbody tr th:only-of-type {\n",
       "        vertical-align: middle;\n",
       "    }\n",
       "\n",
       "    .dataframe tbody tr th {\n",
       "        vertical-align: top;\n",
       "    }\n",
       "\n",
       "    .dataframe thead th {\n",
       "        text-align: right;\n",
       "    }\n",
       "</style>\n",
       "<table border=\"1\" class=\"dataframe\">\n",
       "  <thead>\n",
       "    <tr style=\"text-align: right;\">\n",
       "      <th></th>\n",
       "      <th>uniq_id</th>\n",
       "      <th>crawl_timestamp</th>\n",
       "      <th>product_url</th>\n",
       "      <th>product_name</th>\n",
       "      <th>product_category_tree</th>\n",
       "      <th>pid</th>\n",
       "      <th>retail_price</th>\n",
       "      <th>discounted_price</th>\n",
       "      <th>image</th>\n",
       "      <th>is_FK_Advantage_product</th>\n",
       "      <th>description</th>\n",
       "      <th>product_rating</th>\n",
       "      <th>overall_rating</th>\n",
       "      <th>brand</th>\n",
       "      <th>product_specifications</th>\n",
       "    </tr>\n",
       "  </thead>\n",
       "  <tbody>\n",
       "    <tr>\n",
       "      <th>0</th>\n",
       "      <td>c2d766ca982eca8304150849735ffef9</td>\n",
       "      <td>2016-03-25 22:59:23 +0000</td>\n",
       "      <td>http://www.flipkart.com/alisha-solid-women-s-c...</td>\n",
       "      <td>Alisha Solid Women's Cycling Shorts</td>\n",
       "      <td>[\"Clothing &gt;&gt; Women's Clothing &gt;&gt; Lingerie, Sl...</td>\n",
       "      <td>SRTEH2FF9KEDEFGF</td>\n",
       "      <td>999.0</td>\n",
       "      <td>379.0</td>\n",
       "      <td>[\"http://img5a.flixcart.com/image/short/u/4/a/...</td>\n",
       "      <td>False</td>\n",
       "      <td>Key Features of Alisha Solid Women's Cycling S...</td>\n",
       "      <td>No rating available</td>\n",
       "      <td>No rating available</td>\n",
       "      <td>Alisha</td>\n",
       "      <td>{\"product_specification\"=&gt;[{\"key\"=&gt;\"Number of ...</td>\n",
       "    </tr>\n",
       "    <tr>\n",
       "      <th>1</th>\n",
       "      <td>7f7036a6d550aaa89d34c77bd39a5e48</td>\n",
       "      <td>2016-03-25 22:59:23 +0000</td>\n",
       "      <td>http://www.flipkart.com/fabhomedecor-fabric-do...</td>\n",
       "      <td>FabHomeDecor Fabric Double Sofa Bed</td>\n",
       "      <td>[\"Furniture &gt;&gt; Living Room Furniture &gt;&gt; Sofa B...</td>\n",
       "      <td>SBEEH3QGU7MFYJFY</td>\n",
       "      <td>32157.0</td>\n",
       "      <td>22646.0</td>\n",
       "      <td>[\"http://img6a.flixcart.com/image/sofa-bed/j/f...</td>\n",
       "      <td>False</td>\n",
       "      <td>FabHomeDecor Fabric Double Sofa Bed (Finish Co...</td>\n",
       "      <td>No rating available</td>\n",
       "      <td>No rating available</td>\n",
       "      <td>FabHomeDecor</td>\n",
       "      <td>{\"product_specification\"=&gt;[{\"key\"=&gt;\"Installati...</td>\n",
       "    </tr>\n",
       "    <tr>\n",
       "      <th>2</th>\n",
       "      <td>f449ec65dcbc041b6ae5e6a32717d01b</td>\n",
       "      <td>2016-03-25 22:59:23 +0000</td>\n",
       "      <td>http://www.flipkart.com/aw-bellies/p/itmeh4grg...</td>\n",
       "      <td>AW Bellies</td>\n",
       "      <td>[\"Footwear &gt;&gt; Women's Footwear &gt;&gt; Ballerinas &gt;...</td>\n",
       "      <td>SHOEH4GRSUBJGZXE</td>\n",
       "      <td>999.0</td>\n",
       "      <td>499.0</td>\n",
       "      <td>[\"http://img5a.flixcart.com/image/shoe/7/z/z/r...</td>\n",
       "      <td>False</td>\n",
       "      <td>Key Features of AW Bellies Sandals Wedges Heel...</td>\n",
       "      <td>No rating available</td>\n",
       "      <td>No rating available</td>\n",
       "      <td>AW</td>\n",
       "      <td>{\"product_specification\"=&gt;[{\"key\"=&gt;\"Ideal For\"...</td>\n",
       "    </tr>\n",
       "    <tr>\n",
       "      <th>3</th>\n",
       "      <td>0973b37acd0c664e3de26e97e5571454</td>\n",
       "      <td>2016-03-25 22:59:23 +0000</td>\n",
       "      <td>http://www.flipkart.com/alisha-solid-women-s-c...</td>\n",
       "      <td>Alisha Solid Women's Cycling Shorts</td>\n",
       "      <td>[\"Clothing &gt;&gt; Women's Clothing &gt;&gt; Lingerie, Sl...</td>\n",
       "      <td>SRTEH2F6HUZMQ6SJ</td>\n",
       "      <td>699.0</td>\n",
       "      <td>267.0</td>\n",
       "      <td>[\"http://img5a.flixcart.com/image/short/6/2/h/...</td>\n",
       "      <td>False</td>\n",
       "      <td>Key Features of Alisha Solid Women's Cycling S...</td>\n",
       "      <td>No rating available</td>\n",
       "      <td>No rating available</td>\n",
       "      <td>Alisha</td>\n",
       "      <td>{\"product_specification\"=&gt;[{\"key\"=&gt;\"Number of ...</td>\n",
       "    </tr>\n",
       "    <tr>\n",
       "      <th>4</th>\n",
       "      <td>bc940ea42ee6bef5ac7cea3fb5cfbee7</td>\n",
       "      <td>2016-03-25 22:59:23 +0000</td>\n",
       "      <td>http://www.flipkart.com/sicons-all-purpose-arn...</td>\n",
       "      <td>Sicons All Purpose Arnica Dog Shampoo</td>\n",
       "      <td>[\"Pet Supplies &gt;&gt; Grooming &gt;&gt; Skin &amp; Coat Care...</td>\n",
       "      <td>PSOEH3ZYDMSYARJ5</td>\n",
       "      <td>220.0</td>\n",
       "      <td>210.0</td>\n",
       "      <td>[\"http://img5a.flixcart.com/image/pet-shampoo/...</td>\n",
       "      <td>False</td>\n",
       "      <td>Specifications of Sicons All Purpose Arnica Do...</td>\n",
       "      <td>No rating available</td>\n",
       "      <td>No rating available</td>\n",
       "      <td>Sicons</td>\n",
       "      <td>{\"product_specification\"=&gt;[{\"key\"=&gt;\"Pet Type\",...</td>\n",
       "    </tr>\n",
       "  </tbody>\n",
       "</table>\n",
       "</div>"
      ],
      "text/plain": [
       "                            uniq_id            crawl_timestamp  \\\n",
       "0  c2d766ca982eca8304150849735ffef9  2016-03-25 22:59:23 +0000   \n",
       "1  7f7036a6d550aaa89d34c77bd39a5e48  2016-03-25 22:59:23 +0000   \n",
       "2  f449ec65dcbc041b6ae5e6a32717d01b  2016-03-25 22:59:23 +0000   \n",
       "3  0973b37acd0c664e3de26e97e5571454  2016-03-25 22:59:23 +0000   \n",
       "4  bc940ea42ee6bef5ac7cea3fb5cfbee7  2016-03-25 22:59:23 +0000   \n",
       "\n",
       "                                         product_url  \\\n",
       "0  http://www.flipkart.com/alisha-solid-women-s-c...   \n",
       "1  http://www.flipkart.com/fabhomedecor-fabric-do...   \n",
       "2  http://www.flipkart.com/aw-bellies/p/itmeh4grg...   \n",
       "3  http://www.flipkart.com/alisha-solid-women-s-c...   \n",
       "4  http://www.flipkart.com/sicons-all-purpose-arn...   \n",
       "\n",
       "                            product_name  \\\n",
       "0    Alisha Solid Women's Cycling Shorts   \n",
       "1    FabHomeDecor Fabric Double Sofa Bed   \n",
       "2                             AW Bellies   \n",
       "3    Alisha Solid Women's Cycling Shorts   \n",
       "4  Sicons All Purpose Arnica Dog Shampoo   \n",
       "\n",
       "                               product_category_tree               pid  \\\n",
       "0  [\"Clothing >> Women's Clothing >> Lingerie, Sl...  SRTEH2FF9KEDEFGF   \n",
       "1  [\"Furniture >> Living Room Furniture >> Sofa B...  SBEEH3QGU7MFYJFY   \n",
       "2  [\"Footwear >> Women's Footwear >> Ballerinas >...  SHOEH4GRSUBJGZXE   \n",
       "3  [\"Clothing >> Women's Clothing >> Lingerie, Sl...  SRTEH2F6HUZMQ6SJ   \n",
       "4  [\"Pet Supplies >> Grooming >> Skin & Coat Care...  PSOEH3ZYDMSYARJ5   \n",
       "\n",
       "   retail_price  discounted_price  \\\n",
       "0         999.0             379.0   \n",
       "1       32157.0           22646.0   \n",
       "2         999.0             499.0   \n",
       "3         699.0             267.0   \n",
       "4         220.0             210.0   \n",
       "\n",
       "                                               image is_FK_Advantage_product  \\\n",
       "0  [\"http://img5a.flixcart.com/image/short/u/4/a/...                   False   \n",
       "1  [\"http://img6a.flixcart.com/image/sofa-bed/j/f...                   False   \n",
       "2  [\"http://img5a.flixcart.com/image/shoe/7/z/z/r...                   False   \n",
       "3  [\"http://img5a.flixcart.com/image/short/6/2/h/...                   False   \n",
       "4  [\"http://img5a.flixcart.com/image/pet-shampoo/...                   False   \n",
       "\n",
       "                                         description       product_rating  \\\n",
       "0  Key Features of Alisha Solid Women's Cycling S...  No rating available   \n",
       "1  FabHomeDecor Fabric Double Sofa Bed (Finish Co...  No rating available   \n",
       "2  Key Features of AW Bellies Sandals Wedges Heel...  No rating available   \n",
       "3  Key Features of Alisha Solid Women's Cycling S...  No rating available   \n",
       "4  Specifications of Sicons All Purpose Arnica Do...  No rating available   \n",
       "\n",
       "        overall_rating         brand  \\\n",
       "0  No rating available        Alisha   \n",
       "1  No rating available  FabHomeDecor   \n",
       "2  No rating available            AW   \n",
       "3  No rating available        Alisha   \n",
       "4  No rating available        Sicons   \n",
       "\n",
       "                              product_specifications  \n",
       "0  {\"product_specification\"=>[{\"key\"=>\"Number of ...  \n",
       "1  {\"product_specification\"=>[{\"key\"=>\"Installati...  \n",
       "2  {\"product_specification\"=>[{\"key\"=>\"Ideal For\"...  \n",
       "3  {\"product_specification\"=>[{\"key\"=>\"Number of ...  \n",
       "4  {\"product_specification\"=>[{\"key\"=>\"Pet Type\",...  "
      ]
     },
     "execution_count": 3,
     "metadata": {},
     "output_type": "execute_result"
    }
   ],
   "source": [
    "df.head()"
   ]
  },
  {
   "cell_type": "markdown",
   "id": "30cd3f83",
   "metadata": {},
   "source": [
    "# Understanding the structure of data\n"
   ]
  },
  {
   "cell_type": "code",
   "execution_count": 4,
   "id": "910bd64d",
   "metadata": {},
   "outputs": [
    {
     "data": {
      "text/html": [
       "<div>\n",
       "<style scoped>\n",
       "    .dataframe tbody tr th:only-of-type {\n",
       "        vertical-align: middle;\n",
       "    }\n",
       "\n",
       "    .dataframe tbody tr th {\n",
       "        vertical-align: top;\n",
       "    }\n",
       "\n",
       "    .dataframe thead th {\n",
       "        text-align: right;\n",
       "    }\n",
       "</style>\n",
       "<table border=\"1\" class=\"dataframe\">\n",
       "  <thead>\n",
       "    <tr style=\"text-align: right;\">\n",
       "      <th></th>\n",
       "      <th>retail_price</th>\n",
       "      <th>discounted_price</th>\n",
       "    </tr>\n",
       "  </thead>\n",
       "  <tbody>\n",
       "    <tr>\n",
       "      <th>count</th>\n",
       "      <td>19922.000000</td>\n",
       "      <td>19922.000000</td>\n",
       "    </tr>\n",
       "    <tr>\n",
       "      <th>mean</th>\n",
       "      <td>2979.206104</td>\n",
       "      <td>1973.401767</td>\n",
       "    </tr>\n",
       "    <tr>\n",
       "      <th>std</th>\n",
       "      <td>9009.639341</td>\n",
       "      <td>7333.586040</td>\n",
       "    </tr>\n",
       "    <tr>\n",
       "      <th>min</th>\n",
       "      <td>35.000000</td>\n",
       "      <td>35.000000</td>\n",
       "    </tr>\n",
       "    <tr>\n",
       "      <th>25%</th>\n",
       "      <td>666.000000</td>\n",
       "      <td>350.000000</td>\n",
       "    </tr>\n",
       "    <tr>\n",
       "      <th>50%</th>\n",
       "      <td>1040.000000</td>\n",
       "      <td>550.000000</td>\n",
       "    </tr>\n",
       "    <tr>\n",
       "      <th>75%</th>\n",
       "      <td>1999.000000</td>\n",
       "      <td>999.000000</td>\n",
       "    </tr>\n",
       "    <tr>\n",
       "      <th>max</th>\n",
       "      <td>571230.000000</td>\n",
       "      <td>571230.000000</td>\n",
       "    </tr>\n",
       "  </tbody>\n",
       "</table>\n",
       "</div>"
      ],
      "text/plain": [
       "        retail_price  discounted_price\n",
       "count   19922.000000      19922.000000\n",
       "mean     2979.206104       1973.401767\n",
       "std      9009.639341       7333.586040\n",
       "min        35.000000         35.000000\n",
       "25%       666.000000        350.000000\n",
       "50%      1040.000000        550.000000\n",
       "75%      1999.000000        999.000000\n",
       "max    571230.000000     571230.000000"
      ]
     },
     "execution_count": 4,
     "metadata": {},
     "output_type": "execute_result"
    }
   ],
   "source": [
    "df.describe()"
   ]
  },
  {
   "cell_type": "code",
   "execution_count": 5,
   "id": "974e2c17",
   "metadata": {},
   "outputs": [
    {
     "name": "stdout",
     "output_type": "stream",
     "text": [
      "3499\n"
     ]
    }
   ],
   "source": [
    "#Number of unique brands\n",
    "print(df['brand'].nunique())"
   ]
  },
  {
   "cell_type": "markdown",
   "id": "007d964c",
   "metadata": {},
   "source": [
    "# Analyzing textual data\n"
   ]
  },
  {
   "cell_type": "code",
   "execution_count": 6,
   "id": "ffd641d8",
   "metadata": {},
   "outputs": [],
   "source": [
    "from collections import Counter\n",
    "import matplotlib.pyplot as plt"
   ]
  },
  {
   "cell_type": "code",
   "execution_count": 7,
   "id": "a5bd0370",
   "metadata": {},
   "outputs": [
    {
     "data": {
      "image/png": "[encoded data removed]",
      "text/plain": [
       "<Figure size 432x288 with 1 Axes>"
      ]
     },
     "metadata": {
      "needs_background": "light"
     },
     "output_type": "display_data"
    }
   ],
   "source": [
    "# Word frequency in product names\n",
    "product_names = ' '.join(df['product_name'].fillna('')).split()\n",
    "common_words = Counter(product_names).most_common(20)\n",
    "words, counts = zip(*common_words)\n",
    "plt.bar(words, counts)\n",
    "plt.xticks(rotation=90)\n",
    "plt.show()"
   ]
  },
  {
   "cell_type": "markdown",
   "id": "9462fba7",
   "metadata": {},
   "source": [
    "## we can clearly observe that most products belong to Women's category"
   ]
  },
  {
   "cell_type": "markdown",
   "id": "b0286365",
   "metadata": {},
   "source": [
    "# Handling Missing values"
   ]
  },
  {
   "cell_type": "code",
   "execution_count": 8,
   "id": "26c250af",
   "metadata": {},
   "outputs": [
    {
     "data": {
      "text/plain": [
       "uniq_id                       2\n",
       "crawl_timestamp               2\n",
       "product_url                   2\n",
       "product_name                  2\n",
       "product_category_tree         2\n",
       "pid                           2\n",
       "retail_price                 80\n",
       "discounted_price             80\n",
       "image                         5\n",
       "is_FK_Advantage_product       2\n",
       "description                   4\n",
       "product_rating                2\n",
       "overall_rating                2\n",
       "brand                      5866\n",
       "product_specifications       16\n",
       "dtype: int64"
      ]
     },
     "execution_count": 8,
     "metadata": {},
     "output_type": "execute_result"
    }
   ],
   "source": [
    "df.isnull().sum()"
   ]
  },
  {
   "cell_type": "code",
   "execution_count": 9,
   "id": "beee1329",
   "metadata": {},
   "outputs": [],
   "source": [
    "df['brand'].fillna('', inplace=True) # handling null values where brand name is not provided"
   ]
  },
  {
   "cell_type": "code",
   "execution_count": 10,
   "id": "49e842af",
   "metadata": {},
   "outputs": [
    {
     "data": {
      "text/plain": [
       "uniq_id                     2\n",
       "crawl_timestamp             2\n",
       "product_url                 2\n",
       "product_name                2\n",
       "product_category_tree       2\n",
       "pid                         2\n",
       "retail_price               80\n",
       "discounted_price           80\n",
       "image                       5\n",
       "is_FK_Advantage_product     2\n",
       "description                 4\n",
       "product_rating              2\n",
       "overall_rating              2\n",
       "brand                       0\n",
       "product_specifications     16\n",
       "dtype: int64"
      ]
     },
     "execution_count": 10,
     "metadata": {},
     "output_type": "execute_result"
    }
   ],
   "source": [
    "df.isnull().sum()"
   ]
  },
  {
   "cell_type": "markdown",
   "id": "6e2ff04f",
   "metadata": {},
   "source": [
    "# Handling Duplicates"
   ]
  },
  {
   "cell_type": "code",
   "execution_count": 11,
   "id": "cab8d396",
   "metadata": {},
   "outputs": [
    {
     "data": {
      "text/plain": [
       "1"
      ]
     },
     "execution_count": 11,
     "metadata": {},
     "output_type": "execute_result"
    }
   ],
   "source": [
    "df.duplicated().sum()\n"
   ]
  },
  {
   "cell_type": "code",
   "execution_count": 12,
   "id": "bc1cc83d",
   "metadata": {},
   "outputs": [],
   "source": [
    "df.drop_duplicates(inplace=True)"
   ]
  },
  {
   "cell_type": "markdown",
   "id": "fda4ebfe",
   "metadata": {},
   "source": [
    "# Handling Outliers\n"
   ]
  },
  {
   "cell_type": "code",
   "execution_count": 14,
   "id": "76fd9d50",
   "metadata": {},
   "outputs": [
    {
     "name": "stderr",
     "output_type": "stream",
     "text": [
      "C:\\Users\\aatma\\anaconda3\\lib\\site-packages\\seaborn\\_decorators.py:36: FutureWarning: Pass the following variable as a keyword arg: x. From version 0.12, the only valid positional argument will be `data`, and passing other arguments without an explicit keyword will result in an error or misinterpretation.\n",
      "  warnings.warn(\n"
     ]
    },
    {
     "data": {
      "image/png": "[encoded data removed]",
      "text/plain": [
       "<Figure size 432x288 with 1 Axes>"
      ]
     },
     "metadata": {
      "needs_background": "light"
     },
     "output_type": "display_data"
    },
    {
     "name": "stdout",
     "output_type": "stream",
     "text": [
      "                                uniq_id            crawl_timestamp  \\\n",
      "1      7f7036a6d550aaa89d34c77bd39a5e48  2016-03-25 22:59:23 +0000   \n",
      "7      8542703ca9e6ebdf6d742638dfb1f2ca  2016-03-25 22:59:23 +0000   \n",
      "16     849ab05698081a374215d0b7d18047d0  2016-03-25 22:59:23 +0000   \n",
      "19     7ee3e337474a29b38cfe1f5d4020d633  2016-03-25 22:59:23 +0000   \n",
      "42     f5b22eaa5f79e67209612997f4aa215d  2016-05-26 06:31:26 +0000   \n",
      "...                                 ...                        ...   \n",
      "19952  0bacd4a00919e53fafc0b57769a3be42  2015-12-01 10:15:43 +0000   \n",
      "19956  b5d944972c751ab3f9b95f106fd52f50  2015-12-01 10:15:43 +0000   \n",
      "19970  43c9e22c8e9d67c0ef63f6b2d11671d7  2015-12-01 10:15:43 +0000   \n",
      "19974  b90031c6daba26d176aeda12eb3960d3  2015-12-01 10:15:43 +0000   \n",
      "19982  40a11fee08863edbbc3c2a03d0528bf4  2015-12-01 10:15:43 +0000   \n",
      "\n",
      "                                             product_url  \\\n",
      "1      http://www.flipkart.com/fabhomedecor-fabric-do...   \n",
      "7      http://www.flipkart.com/fabhomedecor-fabric-do...   \n",
      "16     http://www.flipkart.com/fabhomedecor-fabric-do...   \n",
      "19     http://www.flipkart.com/fabhomedecor-fabric-do...   \n",
      "42     http://www.flipkart.com/himmlisch-st381-magnet...   \n",
      "...                                                  ...   \n",
      "19952  http://www.flipkart.com/wallmantra-extra-large...   \n",
      "19956  http://www.flipkart.com/wallmantra-large-vinyl...   \n",
      "19970  http://www.flipkart.com/wallmantra-extra-large...   \n",
      "19974  http://www.flipkart.com/wallmantra-extra-large...   \n",
      "19982  http://www.flipkart.com/wallmantra-large-vinyl...   \n",
      "\n",
      "                                            product_name  \\\n",
      "1                    FabHomeDecor Fabric Double Sofa Bed   \n",
      "7                    FabHomeDecor Fabric Double Sofa Bed   \n",
      "16                   FabHomeDecor Fabric Double Sofa Bed   \n",
      "19                   FabHomeDecor Fabric Double Sofa Bed   \n",
      "42     Himmlisch ST381 Magnetic Sun Shade For Maruti ...   \n",
      "...                                                  ...   \n",
      "19952      Wallmantra Extra Large Vinyl Stickers Sticker   \n",
      "19956             Wallmantra Large Vinyl Sticker Sticker   \n",
      "19970      Wallmantra Extra Large Vinyl Stickers Sticker   \n",
      "19974      Wallmantra Extra Large Vinyl Stickers Sticker   \n",
      "19982             Wallmantra Large Vinyl Sticker Sticker   \n",
      "\n",
      "                                   product_category_tree               pid  \\\n",
      "1      [\"Furniture >> Living Room Furniture >> Sofa B...  SBEEH3QGU7MFYJFY   \n",
      "7      [\"Furniture >> Living Room Furniture >> Sofa B...  SBEEH3QGYGHFUEXN   \n",
      "16     [\"Furniture >> Living Room Furniture >> Sofa B...  SBEEH3QGAYAEPRCG   \n",
      "19     [\"Furniture >> Living Room Furniture >> Sofa B...  SBEEH3QGWRGG3J6Q   \n",
      "42     [\"Automotive >> Accessories & Spare parts >> C...  SUDEJFBRVYEUZUDH   \n",
      "...                                                  ...               ...   \n",
      "19952  [\"Baby Care >> Baby & Kids Gifts >> Stickers >...  STIEBU65VZWXSQAH   \n",
      "19956  [\"Baby Care >> Baby & Kids Gifts >> Stickers >...  STIEC8893KZ4FYWX   \n",
      "19970  [\"Baby Care >> Baby & Kids Gifts >> Stickers >...  STIEBU65VMEQGTZY   \n",
      "19974  [\"Baby Care >> Baby & Kids Gifts >> Stickers >...  STIEBU65HUNJ9GZB   \n",
      "19982  [\"Baby Care >> Baby & Kids Gifts >> Stickers >...  STIEC889ACQUHXFB   \n",
      "\n",
      "       retail_price  discounted_price  \\\n",
      "1           32157.0           22646.0   \n",
      "7           32157.0           22646.0   \n",
      "16          32157.0           22646.0   \n",
      "19          32157.0           22646.0   \n",
      "42           6999.0            1899.0   \n",
      "...             ...               ...   \n",
      "19952        6445.0            2479.0   \n",
      "19956        5797.0            2230.0   \n",
      "19970        7069.0            2719.0   \n",
      "19974        5795.0            2229.0   \n",
      "19982        4930.0            1896.0   \n",
      "\n",
      "                                                   image  \\\n",
      "1      [\"http://img6a.flixcart.com/image/sofa-bed/j/f...   \n",
      "7      [\"http://img6a.flixcart.com/image/sofa-bed/e/x...   \n",
      "16     [\"http://img5a.flixcart.com/image/sofa-bed/r/c...   \n",
      "19     [\"http://img6a.flixcart.com/image/sofa-bed/j/6...   \n",
      "42     [\"http://img5a.flixcart.com/image/sun-shade/5/...   \n",
      "...                                                  ...   \n",
      "19952  [\"http://img6a.flixcart.com/image/sticker/q/a/...   \n",
      "19956  [\"http://img5a.flixcart.com/image/sticker/y/w/...   \n",
      "19970  [\"http://img5a.flixcart.com/image/sticker/t/z/...   \n",
      "19974  [\"http://img6a.flixcart.com/image/sticker/g/z/...   \n",
      "19982  [\"http://img5a.flixcart.com/image/sticker/7/j/...   \n",
      "\n",
      "      is_FK_Advantage_product  \\\n",
      "1                       False   \n",
      "7                       False   \n",
      "16                      False   \n",
      "19                      False   \n",
      "42                      False   \n",
      "...                       ...   \n",
      "19952                   False   \n",
      "19956                   False   \n",
      "19970                   False   \n",
      "19974                   False   \n",
      "19982                   False   \n",
      "\n",
      "                                             description       product_rating  \\\n",
      "1      FabHomeDecor Fabric Double Sofa Bed (Finish Co...  No rating available   \n",
      "7      FabHomeDecor Fabric Double Sofa Bed (Finish Co...  No rating available   \n",
      "16     FabHomeDecor Fabric Double Sofa Bed (Finish Co...  No rating available   \n",
      "19     FabHomeDecor Fabric Double Sofa Bed (Finish Co...  No rating available   \n",
      "42     Himmlisch ST381 Magnetic Sun Shade For Maruti ...  No rating available   \n",
      "...                                                  ...                  ...   \n",
      "19952  Buy Wallmantra Extra Large Vinyl Stickers Stic...  No rating available   \n",
      "19956  Wallmantra Large Vinyl Sticker Sticker (Pack o...  No rating available   \n",
      "19970  Buy Wallmantra Extra Large Vinyl Stickers Stic...  No rating available   \n",
      "19974  Buy Wallmantra Extra Large Vinyl Stickers Stic...  No rating available   \n",
      "19982  Wallmantra Large Vinyl Sticker Sticker (Pack o...  No rating available   \n",
      "\n",
      "            overall_rating         brand  \\\n",
      "1      No rating available  FabHomeDecor   \n",
      "7      No rating available  FabHomeDecor   \n",
      "16     No rating available  FabHomeDecor   \n",
      "19     No rating available  FabHomeDecor   \n",
      "42     No rating available     Himmlisch   \n",
      "...                    ...           ...   \n",
      "19952  No rating available    Wallmantra   \n",
      "19956  No rating available    Wallmantra   \n",
      "19970  No rating available    Wallmantra   \n",
      "19974  No rating available    Wallmantra   \n",
      "19982  No rating available    Wallmantra   \n",
      "\n",
      "                                  product_specifications  \n",
      "1      {\"product_specification\"=>[{\"key\"=>\"Installati...  \n",
      "7      {\"product_specification\"=>[{\"key\"=>\"Installati...  \n",
      "16     {\"product_specification\"=>[{\"key\"=>\"Installati...  \n",
      "19     {\"product_specification\"=>[{\"value\"=>\"1 Sofa B...  \n",
      "42     {\"product_specification\"=>[{\"key\"=>\"Brand\", \"v...  \n",
      "...                                                  ...  \n",
      "19952  {\"product_specification\"=>[{\"key\"=>\"Number of ...  \n",
      "19956  {\"product_specification\"=>[{\"key\"=>\"Number of ...  \n",
      "19970  {\"product_specification\"=>[{\"key\"=>\"Number of ...  \n",
      "19974  {\"product_specification\"=>[{\"key\"=>\"Number of ...  \n",
      "19982  {\"product_specification\"=>[{\"key\"=>\"Number of ...  \n",
      "\n",
      "[2047 rows x 15 columns]\n"
     ]
    }
   ],
   "source": [
    "# Box plot to identify outliers in retail prices\n",
    "import seaborn as sns\n",
    "sns.boxplot(df['retail_price'])\n",
    "plt.show()\n",
    "\n",
    "# Filter potential outliers\n",
    "Q1 = df['retail_price'].quantile(0.25)\n",
    "Q3 = df['retail_price'].quantile(0.75)\n",
    "IQR = Q3 - Q1\n",
    "outliers = df[(df['retail_price'] < (Q1 - 1.5 * IQR)) | (df['retail_price'] > (Q3 + 1.5 * IQR))]\n",
    "print(outliers)\n"
   ]
  },
  {
   "cell_type": "code",
   "execution_count": 16,
   "id": "5b425375",
   "metadata": {},
   "outputs": [
    {
     "name": "stdout",
     "output_type": "stream",
     "text": [
      "<class 'pandas.core.frame.DataFrame'>\n",
      "Int64Index: 20001 entries, 0 to 20000\n",
      "Data columns (total 15 columns):\n",
      " #   Column                   Non-Null Count  Dtype  \n",
      "---  ------                   --------------  -----  \n",
      " 0   uniq_id                  20000 non-null  object \n",
      " 1   crawl_timestamp          20000 non-null  object \n",
      " 2   product_url              20000 non-null  object \n",
      " 3   product_name             20000 non-null  object \n",
      " 4   product_category_tree    20000 non-null  object \n",
      " 5   pid                      20000 non-null  object \n",
      " 6   retail_price             19922 non-null  float64\n",
      " 7   discounted_price         19922 non-null  float64\n",
      " 8   image                    19997 non-null  object \n",
      " 9   is_FK_Advantage_product  20000 non-null  object \n",
      " 10  description              19998 non-null  object \n",
      " 11  product_rating           20000 non-null  object \n",
      " 12  overall_rating           20000 non-null  object \n",
      " 13  brand                    20001 non-null  object \n",
      " 14  product_specifications   19986 non-null  object \n",
      "dtypes: float64(2), object(13)\n",
      "memory usage: 2.4+ MB\n"
     ]
    }
   ],
   "source": [
    "df.info()"
   ]
  },
  {
   "cell_type": "markdown",
   "id": "b1383d89",
   "metadata": {},
   "source": [
    "# Using the TF-IDF Approach"
   ]
  },
  {
   "cell_type": "code",
   "execution_count": 20,
   "id": "098e346c",
   "metadata": {},
   "outputs": [
    {
     "name": "stdout",
     "output_type": "stream",
     "text": [
      "                                           product_name  \\\n",
      "8712           Stylisda SFK09 Analog Watch  - For Women   \n",
      "14808           Q&Q DA37J504Y Analog Watch  - For Women   \n",
      "8620   Logues LGSWATCHES760SL Analog Watch  - For Women   \n",
      "9057    Logues LGSWATCH3136SL Analog Watch  - For Women   \n",
      "8539      Now B140-SRR12 Analog Watch  - For Men, Women   \n",
      "\n",
      "                                             description  \\\n",
      "8712   Stylisda SFK09 Analog Watch  - For Women - Buy...   \n",
      "14808  Q&Q DA37J504Y Analog Watch  - For Women - Buy ...   \n",
      "8620   Logues LGSWATCHES760SL Analog Watch  - For Wom...   \n",
      "9057   Logues LGSWATCH3136SL Analog Watch  - For Wome...   \n",
      "8539   Now B140-SRR12 Analog Watch  - For Men, Women ...   \n",
      "\n",
      "                                             product_url  \n",
      "8712   http://www.flipkart.com/stylisda-sfk09-analog-...  \n",
      "14808  http://www.flipkart.com/q-q-da37j504y-analog-w...  \n",
      "8620   http://www.flipkart.com/logues-lgswatches760sl...  \n",
      "9057   http://www.flipkart.com/logues-lgswatch3136sl-...  \n",
      "8539   http://www.flipkart.com/now-b140-srr12-analog-...  \n",
      "Similarities: [0.66928443 0.66928443 0.63275816 0.63084442 0.59126238]\n"
     ]
    }
   ],
   "source": [
    "from sklearn.feature_extraction.text import TfidfVectorizer\n",
    "from sklearn.metrics.pairwise import cosine_similarity\n",
    "\n",
    "# Combine 'product_name' and 'description' into a single text field\n",
    "df['combined_text'] = df['product_name'].fillna('') + \" \" + df['description'].fillna('')\n",
    "\n",
    "# Initialize TF-IDF Vectorizer\n",
    "tfidf_vectorizer = TfidfVectorizer(stop_words='english', max_features=5000)\n",
    "\n",
    "# Fit and transform the combined text to generate the TF-IDF matrix\n",
    "tfidf_matrix = tfidf_vectorizer.fit_transform(df['combined_text'])\n",
    "\n",
    "def search_products(query, tfidf_vectorizer, tfidf_matrix, df, top_n=5):\n",
    "    # Convert the search query to a vector\n",
    "    query_vec = tfidf_vectorizer.transform([query])\n",
    "    \n",
    "    # Calculate cosine similarity between the query and all product vectors\n",
    "    cosine_similarities = cosine_similarity(query_vec, tfidf_matrix).flatten()\n",
    "    \n",
    "    # Get the top N most similar products\n",
    "    top_indices = cosine_similarities.argsort()[-top_n:][::-1]\n",
    "    \n",
    "    # Retrieve the corresponding products from the dataframe\n",
    "    top_products = df.iloc[top_indices][['product_name', 'description', 'product_url']]\n",
    "    top_similarities = cosine_similarities[top_indices]\n",
    "    \n",
    "    return top_products, top_similarities\n",
    "\n",
    "# Example search query\n",
    "query = \"women watch\"\n",
    "top_products, top_similarities = search_products(query, tfidf_vectorizer, tfidf_matrix, df)\n",
    "\n",
    "# Display the results\n",
    "print(top_products)\n",
    "print(\"Similarities:\", top_similarities)\n"
   ]
  },
  {
   "cell_type": "markdown",
   "id": "b8e57e55",
   "metadata": {},
   "source": [
    "# Using Bert embeddings"
   ]
  },
  {
   "cell_type": "code",
   "execution_count": null,
   "id": "ac83ff33",
   "metadata": {},
   "outputs": [],
   "source": [
    "import torch\n",
    "from transformers import BertModel, BertTokenizer\n",
    "from sklearn.metrics.pairwise import cosine_similarity\n",
    "\n",
    "\n",
    "# Load pre-trained BERT model and tokenizer\n",
    "tokenizer = BertTokenizer.from_pretrained('bert-base-uncased')\n",
    "model = BertModel.from_pretrained('bert-base-uncased')\n",
    "\n",
    "# Function to encode a sentence into a BERT embedding\n",
    "def encode_text(text, model, tokenizer):\n",
    "    inputs = tokenizer(text, return_tensors='pt', truncation=True, padding=True, max_length=512)\n",
    "    with torch.no_grad():\n",
    "        outputs = model(**inputs)\n",
    "    return outputs.last_hidden_state.mean(dim=1).squeeze()\n",
    "\n",
    "# Encode all product descriptions\n",
    "df['bert_embedding'] = df['combined_text'].apply(lambda x: encode_text(x, model, tokenizer).numpy())\n",
    "\n",
    "# Function to search for similar products\n",
    "def search_products(query, model, tokenizer, df, top_n=5):\n",
    "    # Encode the search query\n",
    "    query_embedding = encode_text(query, model, tokenizer).numpy().reshape(1, -1)\n",
    "    \n",
    "    # Compute cosine similarity between the query and all product embeddings\n",
    "    doc_embeddings = np.stack(df['bert_embedding'].values)\n",
    "    cosine_similarities = cosine_similarity(query_embedding, doc_embeddings).flatten()\n",
    "    \n",
    "    # Get the top N most similar products\n",
    "    top_indices = cosine_similarities.argsort()[-top_n:][::-1]\n",
    "    \n",
    "    # Retrieve the corresponding products from the dataframe\n",
    "    top_products = df.iloc[top_indices][['product_name', 'description', 'product_url']]\n",
    "    top_similarities = cosine_similarities[top_indices]\n",
    "    \n",
    "    return top_products, top_similarities\n",
    "\n",
    "# Example search query\n",
    "query = \"women's cycling shorts\"\n",
    "top_products, top_similarities = search_products(query, model, tokenizer, df)\n",
    "\n",
    "# Display the results\n",
    "print(top_products)\n",
    "print(\"Similarities:\", top_similarities)\n"
   ]
  },
  {
   "cell_type": "markdown",
   "id": "c863386f",
   "metadata": {},
   "source": [
    "# Using Doc2Vec"
   ]
  },
  {
   "cell_type": "code",
   "execution_count": 21,
   "id": "d2e02628",
   "metadata": {},
   "outputs": [
    {
     "name": "stdout",
     "output_type": "stream",
     "text": [
      "                                     product_name  \\\n",
      "4643    Allure Auto CM 1696 Car Mat Toyota Innova   \n",
      "17185  TheLostPuppy Back Cover for Apple iPad Air   \n",
      "17437  TheLostPuppy Back Cover for Apple iPad Air   \n",
      "11108                  DeStudio Tiny Wall Sticker   \n",
      "4828      Allure Auto CM 1902 Car Mat Hyundai i20   \n",
      "\n",
      "                                             description  \\\n",
      "4643   Buy Allure Auto CM 1696 Car Mat Toyota Innova ...   \n",
      "17185  TheLostPuppy Back Cover for Apple iPad Air (Mu...   \n",
      "17437  TheLostPuppy Back Cover for Apple iPad Air (Mu...   \n",
      "11108  Buy DeStudio Tiny Wall Sticker for Rs.399 onli...   \n",
      "4828   Buy Allure Auto CM 1902 Car Mat Hyundai i20 fo...   \n",
      "\n",
      "                                             product_url  \n",
      "4643   http://www.flipkart.com/allure-auto-cm-1696-ca...  \n",
      "17185  http://www.flipkart.com/thelostpuppy-back-cove...  \n",
      "17437  http://www.flipkart.com/thelostpuppy-back-cove...  \n",
      "11108  http://www.flipkart.com/destudio-tiny-wall-sti...  \n",
      "4828   http://www.flipkart.com/allure-auto-cm-1902-ca...  \n",
      "Similarities: [0.8981489  0.8974657  0.89582837 0.8947126  0.8944331 ]\n"
     ]
    }
   ],
   "source": [
    "\n",
    "from gensim.models.doc2vec import Doc2Vec, TaggedDocument\n",
    "# Load the dataset\n",
    "\n",
    "\n",
    "# Preprocess the text data (tokenization)\n",
    "df['tokens'] = df['combined_text'].apply(lambda x: x.split())\n",
    "\n",
    "# Create TaggedDocument objects for training\n",
    "documents = [TaggedDocument(words=text, tags=[str(i)]) for i, text in enumerate(df['tokens'])]\n",
    "\n",
    "# Train a Doc2Vec model\n",
    "doc2vec_model = Doc2Vec(vector_size=100, window=5, min_count=2, workers=4, epochs=40)\n",
    "doc2vec_model.build_vocab(documents)\n",
    "doc2vec_model.train(documents, total_examples=doc2vec_model.corpus_count, epochs=doc2vec_model.epochs)\n",
    "\n",
    "# Function to search for similar products\n",
    "def search_products(query, model, df, top_n=5):\n",
    "    # Preprocess and vectorize the query\n",
    "    query_tokens = query.split()\n",
    "    query_vector = model.infer_vector(query_tokens)\n",
    "    \n",
    "    # Calculate cosine similarity between the query vector and all product vectors\n",
    "    doc_vectors = np.array([model.dv[str(i)] for i in range(len(df))])\n",
    "    cosine_similarities = cosine_similarity([query_vector], doc_vectors).flatten()\n",
    "    \n",
    "    # Get the top N most similar products\n",
    "    top_indices = cosine_similarities.argsort()[-top_n:][::-1]\n",
    "    \n",
    "    # Retrieve the corresponding products from the dataframe\n",
    "    top_products = df.iloc[top_indices][['product_name', 'description', 'product_url']]\n",
    "    top_similarities = cosine_similarities[top_indices]\n",
    "    \n",
    "    return top_products, top_similarities\n",
    "\n",
    "# Example search query\n",
    "query = \"men shirt blue\"\n",
    "top_products, top_similarities = search_products(query, doc2vec_model, df)\n",
    "\n",
    "# Display the results\n",
    "print(top_products)\n",
    "print(\"Similarities:\", top_similarities)\n"
   ]
  },
  {
   "cell_type": "code",
   "execution_count": null,
   "id": "c650f623",
   "metadata": {},
   "outputs": [],
   "source": []
  }
 ],
 "metadata": {
  "kernelspec": {
   "display_name": "Python 3",
   "language": "python",
   "name": "python3"
  },
  "language_info": {
   "codemirror_mode": {
    "name": "ipython",
    "version": 3
   },
   "file_extension": ".py",
   "mimetype": "text/x-python",
   "name": "python",
   "nbconvert_exporter": "python",
   "pygments_lexer": "ipython3",
   "version": "3.8.8"
  }
 },
 "nbformat": 4,
 "nbformat_minor": 5
}
